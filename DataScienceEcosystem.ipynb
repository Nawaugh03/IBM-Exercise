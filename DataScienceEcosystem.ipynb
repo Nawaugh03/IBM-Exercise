{
 "cells": [
  {
   "cell_type": "markdown",
   "id": "14fb788c",
   "metadata": {},
   "source": [
    "# Data Science Tools and Ecosystem"
   ]
  },
  {
   "cell_type": "markdown",
   "id": "65f3c4f0",
   "metadata": {},
   "source": [
    "In this notebook, Data Science Tools and Ecosystem are summarized."
   ]
  },
  {
   "cell_type": "markdown",
   "id": "b5e18e69",
   "metadata": {},
   "source": [
    "Some of the popular languages that Data Scientists use are:\n",
    "1. Python\n",
    "2. SQL\n",
    "3. R"
   ]
  },
  {
   "cell_type": "markdown",
   "id": "db5540a3",
   "metadata": {},
   "source": [
    "Some of the commonly used libraries used by Data Scientists include:\n",
    "1. Numpy\n",
    "2. Pandas\n",
    "3. Matplotlib"
   ]
  },
  {
   "cell_type": "markdown",
   "id": "25f9aac8",
   "metadata": {},
   "source": [
    "|Data Science Tools|\n",
    "|------------------|\n",
    "|Python|\n",
    "|R|\n",
    "|Jupyter Notebooks|"
   ]
  },
  {
   "cell_type": "markdown",
   "id": "7724729c",
   "metadata": {},
   "source": [
    "### Below are a few examples of evaluating arithmetic expressions in python"
   ]
  },
  {
   "cell_type": "code",
   "execution_count": 14,
   "id": "05d4fd2d",
   "metadata": {},
   "outputs": [
    {
     "data": {
      "text/plain": [
       "17"
      ]
     },
     "execution_count": 14,
     "metadata": {},
     "output_type": "execute_result"
    }
   ],
   "source": [
    "# This a simple arithmetic expression to multiply then add integers\n",
    "(3*4)+5"
   ]
  },
  {
   "cell_type": "code",
   "execution_count": 15,
   "id": "958ce8a6",
   "metadata": {},
   "outputs": [
    {
     "data": {
      "text/plain": [
       "3.3333333333333335"
      ]
     },
     "execution_count": 15,
     "metadata": {},
     "output_type": "execute_result"
    }
   ],
   "source": [
    "#This will convert the 200 minutes to hours by dividing by 60\n",
    "200/60"
   ]
  },
  {
   "cell_type": "markdown",
   "id": "f82fd652",
   "metadata": {},
   "source": [
    "Objectives:\n",
    "- List of popular languages for Data Science\n",
    "- Commonly used libraries for Data Science\n",
    "- Commonly used Data Science Tools\n",
    "- Arithmetic expressions in python"
   ]
  },
  {
   "cell_type": "markdown",
   "id": "515479a9",
   "metadata": {},
   "source": [
    "## Author\n",
    "Nicholas Waugh"
   ]
  }
 ],
 "metadata": {
  "kernelspec": {
   "display_name": "base",
   "language": "python",
   "name": "python3"
  },
  "language_info": {
   "codemirror_mode": {
    "name": "ipython",
    "version": 3
   },
   "file_extension": ".py",
   "mimetype": "text/x-python",
   "name": "python",
   "nbconvert_exporter": "python",
   "pygments_lexer": "ipython3",
   "version": "3.12.7"
  }
 },
 "nbformat": 4,
 "nbformat_minor": 5
}
